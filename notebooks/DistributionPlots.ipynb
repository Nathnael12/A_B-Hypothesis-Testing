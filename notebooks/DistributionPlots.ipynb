{
 "cells": [
  {
   "cell_type": "code",
   "execution_count": null,
   "id": "2b8396b7",
   "metadata": {},
   "outputs": [],
   "source": [
    "import sys\n",
    "sys.path.insert(0, './AB_Testing')\n",
    "\n",
    "from DistributionPlots import DistributionPlots\n",
    "DP = DistributionPlots() "
   ]
  },
  {
   "cell_type": "code",
   "execution_count": null,
   "id": "4741c1e1",
   "metadata": {},
   "outputs": [],
   "source": [
    "#initializing variables based on data\n",
    "#where C stands for Control, E stands for Exposed and cr stands for Conversation rate\n",
    "C_aware = 200; C_total = 4000; C_cr = 0.05\n",
    "E_aware = 250; E_total = 4000; E_cr = 0.0625"
   ]
  },
  {
   "cell_type": "code",
   "execution_count": null,
   "id": "f0c325f8",
   "metadata": {},
   "outputs": [],
   "source": [
    "#control group distribution with probability of getting the result from our exposed group\n",
    "DP.cont_distribution(C_aware, C_total, C_cr, E_cr)"
   ]
  },
  {
   "cell_type": "code",
   "execution_count": null,
   "id": "d506e62f",
   "metadata": {},
   "outputs": [],
   "source": [
    "#comparison of control and exposed groups distribution against each other\n",
    "DP.cont_exp_distribution(C_aware, E_aware, C_total, E_total, C_cr, E_cr)"
   ]
  },
  {
   "cell_type": "code",
   "execution_count": null,
   "id": "c49b64da",
   "metadata": {},
   "outputs": [],
   "source": [
    "#Null and alternative hypotheses plots with\n",
    "#statistical power and significance levels defined and represented in the plots\n",
    "DP.null_alt_distribution(C_total, E_total, C_cr, E_cr)"
   ]
  }
 ],
 "metadata": {
  "kernelspec": {
   "display_name": "Python 3 (ipykernel)",
   "language": "python",
   "name": "python3"
  },
  "language_info": {
   "codemirror_mode": {
    "name": "ipython",
    "version": 3
   },
   "file_extension": ".py",
   "mimetype": "text/x-python",
   "name": "python",
   "nbconvert_exporter": "python",
   "pygments_lexer": "ipython3",
   "version": "3.9.7"
  }
 },
 "nbformat": 4,
 "nbformat_minor": 5
}
