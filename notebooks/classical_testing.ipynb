{
 "cells": [
  {
   "cell_type": "code",
   "execution_count": 2,
   "metadata": {},
   "outputs": [],
   "source": [
    "import numpy as np\n",
    "import pandas as pd\n",
    "import matplotlib.pyplot as plt\n",
    "import sys, os\n",
    "import warnings\n",
    "import scipy\n",
    "import scipy.stats as scs\n",
    "\n",
    "sys.path.append(\"../scripts/\")\n",
    "from clean_data import  DataCleaner\n",
    "from utils import  Utils\n",
    "from PlottingFunctions import  PlottingFunctions\n",
    "from ABTestingFunctions import  ABTesting\n",
    "warnings.filterwarnings(\"ignore\")"
   ]
  },
  {
   "cell_type": "code",
   "execution_count": 3,
   "metadata": {},
   "outputs": [],
   "source": [
    "cleaner= DataCleaner()\n",
    "utils = Utils()\n",
    "plotter = PlottingFunctions()\n",
    "ab_testing = ABTesting()"
   ]
  },
  {
   "cell_type": "code",
   "execution_count": 4,
   "metadata": {},
   "outputs": [
    {
     "data": {
      "text/plain": [
       "(1243, 9)"
      ]
     },
     "execution_count": 4,
     "metadata": {},
     "output_type": "execute_result"
    }
   ],
   "source": [
    "df = utils.load_data(\"../data/AdSmartABdata.csv\")\n",
    "responsive_df = cleaner.drop_unresponsive(df)\n",
    "responsive_df.shape"
   ]
  },
  {
   "cell_type": "code",
   "execution_count": 5,
   "metadata": {},
   "outputs": [
    {
     "name": "stdout",
     "output_type": "stream",
     "text": [
      "<class 'pandas.core.frame.DataFrame'>\n",
      "Int64Index: 1243 entries, 2 to 8071\n",
      "Data columns (total 9 columns):\n",
      " #   Column       Non-Null Count  Dtype \n",
      "---  ------       --------------  ----- \n",
      " 0   auction_id   1243 non-null   object\n",
      " 1   experiment   1243 non-null   object\n",
      " 2   date         1243 non-null   object\n",
      " 3   hour         1243 non-null   int64 \n",
      " 4   device_make  1243 non-null   object\n",
      " 5   platform_os  1243 non-null   int64 \n",
      " 6   browser      1243 non-null   object\n",
      " 7   yes          1243 non-null   int64 \n",
      " 8   no           1243 non-null   int64 \n",
      "dtypes: int64(4), object(5)\n",
      "memory usage: 97.1+ KB\n"
     ]
    }
   ],
   "source": [
    "responsive_df.info()"
   ]
  },
  {
   "cell_type": "code",
   "execution_count": 7,
   "metadata": {},
   "outputs": [
    {
     "data": {
      "text/html": [
       "<div>\n",
       "<style scoped>\n",
       "    .dataframe tbody tr th:only-of-type {\n",
       "        vertical-align: middle;\n",
       "    }\n",
       "\n",
       "    .dataframe tbody tr th {\n",
       "        vertical-align: top;\n",
       "    }\n",
       "\n",
       "    .dataframe thead th {\n",
       "        text-align: right;\n",
       "    }\n",
       "</style>\n",
       "<table border=\"1\" class=\"dataframe\">\n",
       "  <thead>\n",
       "    <tr style=\"text-align: right;\">\n",
       "      <th></th>\n",
       "      <th>auction_id</th>\n",
       "      <th>experiment</th>\n",
       "      <th>know_brand</th>\n",
       "    </tr>\n",
       "  </thead>\n",
       "  <tbody>\n",
       "    <tr>\n",
       "      <th>2</th>\n",
       "      <td>0016d14a-ae18-4a02-a204-6ba53b52f2ed</td>\n",
       "      <td>exposed</td>\n",
       "      <td>0</td>\n",
       "    </tr>\n",
       "    <tr>\n",
       "      <th>16</th>\n",
       "      <td>008aafdf-deef-4482-8fec-d98e3da054da</td>\n",
       "      <td>exposed</td>\n",
       "      <td>1</td>\n",
       "    </tr>\n",
       "    <tr>\n",
       "      <th>20</th>\n",
       "      <td>00a1384a-5118-4d1b-925b-6cdada50318d</td>\n",
       "      <td>exposed</td>\n",
       "      <td>0</td>\n",
       "    </tr>\n",
       "    <tr>\n",
       "      <th>23</th>\n",
       "      <td>00b6fadb-10bd-49e3-a778-290da82f7a8d</td>\n",
       "      <td>control</td>\n",
       "      <td>1</td>\n",
       "    </tr>\n",
       "    <tr>\n",
       "      <th>27</th>\n",
       "      <td>00ebf4a8-060f-4b99-93ac-c62724399483</td>\n",
       "      <td>control</td>\n",
       "      <td>0</td>\n",
       "    </tr>\n",
       "  </tbody>\n",
       "</table>\n",
       "</div>"
      ],
      "text/plain": [
       "                              auction_id experiment  know_brand\n",
       "2   0016d14a-ae18-4a02-a204-6ba53b52f2ed    exposed           0\n",
       "16  008aafdf-deef-4482-8fec-d98e3da054da    exposed           1\n",
       "20  00a1384a-5118-4d1b-925b-6cdada50318d    exposed           0\n",
       "23  00b6fadb-10bd-49e3-a778-290da82f7a8d    control           1\n",
       "27  00ebf4a8-060f-4b99-93ac-c62724399483    control           0"
      ]
     },
     "execution_count": 7,
     "metadata": {},
     "output_type": "execute_result"
    }
   ],
   "source": [
    "cleaned_df=responsive_df[['auction_id','experiment','yes']]\n",
    "cleaned_df.rename(columns={'yes':'know_brand'},inplace=True)\n",
    "cleaned_df.head()"
   ]
  },
  {
   "cell_type": "markdown",
   "metadata": {},
   "source": [
    "Data Summary"
   ]
  },
  {
   "cell_type": "code",
   "execution_count": 21,
   "metadata": {},
   "outputs": [
    {
     "data": {
      "text/html": [
       "<div>\n",
       "<style scoped>\n",
       "    .dataframe tbody tr th:only-of-type {\n",
       "        vertical-align: middle;\n",
       "    }\n",
       "\n",
       "    .dataframe tbody tr th {\n",
       "        vertical-align: top;\n",
       "    }\n",
       "\n",
       "    .dataframe thead th {\n",
       "        text-align: right;\n",
       "    }\n",
       "</style>\n",
       "<table border=\"1\" class=\"dataframe\">\n",
       "  <thead>\n",
       "    <tr style=\"text-align: right;\">\n",
       "      <th></th>\n",
       "      <th>know_brand</th>\n",
       "    </tr>\n",
       "    <tr>\n",
       "      <th>experiment</th>\n",
       "      <th></th>\n",
       "    </tr>\n",
       "  </thead>\n",
       "  <tbody>\n",
       "    <tr>\n",
       "      <th>control</th>\n",
       "      <td>0.450512</td>\n",
       "    </tr>\n",
       "    <tr>\n",
       "      <th>exposed</th>\n",
       "      <td>0.468798</td>\n",
       "    </tr>\n",
       "  </tbody>\n",
       "</table>\n",
       "</div>"
      ],
      "text/plain": [
       "            know_brand\n",
       "experiment            \n",
       "control       0.450512\n",
       "exposed       0.468798"
      ]
     },
     "execution_count": 21,
     "metadata": {},
     "output_type": "execute_result"
    }
   ],
   "source": [
    "summary_df = cleaned_df.pivot_table( index='experiment')\n",
    "summary_df"
   ]
  },
  {
   "cell_type": "code",
   "execution_count": 22,
   "metadata": {},
   "outputs": [
    {
     "data": {
      "text/html": [
       "<div>\n",
       "<style scoped>\n",
       "    .dataframe tbody tr th:only-of-type {\n",
       "        vertical-align: middle;\n",
       "    }\n",
       "\n",
       "    .dataframe tbody tr th {\n",
       "        vertical-align: top;\n",
       "    }\n",
       "\n",
       "    .dataframe thead th {\n",
       "        text-align: right;\n",
       "    }\n",
       "</style>\n",
       "<table border=\"1\" class=\"dataframe\">\n",
       "  <thead>\n",
       "    <tr style=\"text-align: right;\">\n",
       "      <th></th>\n",
       "      <th>know_brand</th>\n",
       "      <th>not_know_brand</th>\n",
       "      <th>total</th>\n",
       "      <th>rate</th>\n",
       "    </tr>\n",
       "    <tr>\n",
       "      <th>experiment</th>\n",
       "      <th></th>\n",
       "      <th></th>\n",
       "      <th></th>\n",
       "      <th></th>\n",
       "    </tr>\n",
       "  </thead>\n",
       "  <tbody>\n",
       "    <tr>\n",
       "      <th>control</th>\n",
       "      <td>264</td>\n",
       "      <td>322</td>\n",
       "      <td>586</td>\n",
       "      <td>0.450512</td>\n",
       "    </tr>\n",
       "    <tr>\n",
       "      <th>exposed</th>\n",
       "      <td>308</td>\n",
       "      <td>349</td>\n",
       "      <td>657</td>\n",
       "      <td>0.468798</td>\n",
       "    </tr>\n",
       "  </tbody>\n",
       "</table>\n",
       "</div>"
      ],
      "text/plain": [
       "            know_brand  not_know_brand  total      rate\n",
       "experiment                                             \n",
       "control            264             322    586  0.450512\n",
       "exposed            308             349    657  0.468798"
      ]
     },
     "execution_count": 22,
     "metadata": {},
     "output_type": "execute_result"
    }
   ],
   "source": [
    "summary_df = cleaned_df.pivot_table( index='experiment', aggfunc='sum')\n",
    "summary_df['total'] = cleaned_df.pivot_table( index='experiment', aggfunc='count')[['auction_id']]\n",
    "summary_df['rate'] = cleaned_df.pivot_table( index='experiment')\n",
    "summary_df['not_know_brand'] = summary_df['total'] - summary_df['know_brand']\n",
    "summary_df = summary_df.reindex(['know_brand', 'not_know_brand', 'total', 'rate'], axis=1)\n",
    "summary_df"
   ]
  },
  {
   "cell_type": "code",
   "execution_count": 25,
   "metadata": {},
   "outputs": [],
   "source": [
    "exp_rate = summary_df['rate']['exposed']\n",
    "cont_rate = summary_df['rate']['control']\n",
    "\n",
    "exp_aware = summary_df['know_brand']['exposed']\n",
    "cont_aware = summary_df['not_know_brand']['control']\n",
    "\n",
    "exp_total = summary_df['total']['exposed']\n",
    "cont_total = summary_df['total']['control']"
   ]
  },
  {
   "cell_type": "code",
   "execution_count": 26,
   "metadata": {},
   "outputs": [],
   "source": [
    "diff = exp_rate - cont_rate"
   ]
  },
  {
   "cell_type": "code",
   "execution_count": 27,
   "metadata": {},
   "outputs": [
    {
     "name": "stdout",
     "output_type": "stream",
     "text": [
      "The difference between conversion rates of the test and control groups is 0.018285619295484168.\n"
     ]
    }
   ],
   "source": [
    "print(f'The difference between conversion rates of the test and control groups is {diff}.')"
   ]
  }
 ],
 "metadata": {
  "kernelspec": {
   "display_name": "Python 3.10.4 64-bit",
   "language": "python",
   "name": "python3"
  },
  "language_info": {
   "codemirror_mode": {
    "name": "ipython",
    "version": 3
   },
   "file_extension": ".py",
   "mimetype": "text/x-python",
   "name": "python",
   "nbconvert_exporter": "python",
   "pygments_lexer": "ipython3",
   "version": "3.10.4"
  },
  "orig_nbformat": 4,
  "vscode": {
   "interpreter": {
    "hash": "90978d7a57357001f6d0fedca3f3848cad6c097ec2b59b9dd0200233ae8f22ca"
   }
  }
 },
 "nbformat": 4,
 "nbformat_minor": 2
}
